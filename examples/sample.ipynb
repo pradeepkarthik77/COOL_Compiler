{
 "cells": [
  {
   "cell_type": "code",
   "execution_count": null,
   "metadata": {},
   "outputs": [],
   "source": [
    "y <- \"Hello, World!\";"
   ]
  },
  {
   "cell_type": "code",
   "execution_count": null,
   "metadata": {},
   "outputs": [],
   "source": [
    "z <- 42 +34;"
   ]
  },
  {
   "cell_type": "code",
   "execution_count": null,
   "metadata": {},
   "outputs": [],
   "source": [
    "z <- 5;"
   ]
  },
  {
   "cell_type": "code",
   "execution_count": null,
   "metadata": {},
   "outputs": [],
   "source": [
    "class MyClass {\n",
    "    varName: Int <- 5;\n",
    "};"
   ]
  },
  {
   "cell_type": "code",
   "execution_count": null,
   "metadata": {},
   "outputs": [],
   "source": [
    "let s: String <- \"Hello, Cool!\" in\n",
    "let flag: Bool <- true in\n",
    "let a: Int <- 5, b: String <- \"Cool\", c: Bool <- true in\n",
    "let uninitialized: Int in\n",
    "uninitialized <- 10;"
   ]
  },
  {
   "cell_type": "code",
   "execution_count": null,
   "metadata": {},
   "outputs": [],
   "source": [
    "if position = num_cells() - 1 then\n",
    "            cell(0)\n",
    "        else\n",
    "            cell(position + 1)\n",
    "        fi"
   ]
  },
  {
   "cell_type": "code",
   "execution_count": null,
   "metadata": {},
   "outputs": [],
   "source": [
    "case xcar.print() of\n",
    "                dummy : Book => out_string(\"- dynamic type was Book -\\n\");\n",
    "                dummy : Article => out_string(\"- dynamic type was Article -\\n\");\n",
    "            esac;"
   ]
  },
  {
   "cell_type": "code",
   "execution_count": null,
   "metadata": {},
   "outputs": [],
   "source": [
    "while position < num loop\n",
    "                    {\n",
    "                        temp <- temp.concat(cell_at_next_evolution(position));\n",
    "                        position <- position + 1;\n",
    "                    }\n",
    "                pool;"
   ]
  },
  {
   "cell_type": "code",
   "execution_count": null,
   "metadata": {},
   "outputs": [],
   "source": [
    "cell_left_neighbor(position : Int) : String {\n",
    "        if position = 0 then\n",
    "            cell(num_cells() - 1)\n",
    "        else\n",
    "            cell(position - 1)\n",
    "        fi\n",
    "    };"
   ]
  },
  {
   "cell_type": "code",
   "execution_count": null,
   "metadata": {},
   "outputs": [],
   "source": [
    "class E inherits D {\n",
    "\n",
    "   method6(num : Int) : A {  -- division\n",
    "      (let x : Int in\n",
    "         {\n",
    "            x <- num / 8;\n",
    "\t    (new A).set_var(x);\n",
    "         }\n",
    "      )\n",
    "   };\n",
    "\n",
    "};"
   ]
  }
 ],
 "metadata": {
  "language_info": {
   "name": "python"
  }
 },
 "nbformat": 4,
 "nbformat_minor": 2
}
